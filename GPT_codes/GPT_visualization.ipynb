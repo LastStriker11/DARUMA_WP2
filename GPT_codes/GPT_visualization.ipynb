{
 "cells": [
  {
   "cell_type": "markdown",
   "id": "9b468508",
   "metadata": {},
   "source": [
    "# GPT Data Visualization\n",
    "\n",
    "*Date: 27.02.2022*"
   ]
  },
  {
   "cell_type": "code",
   "execution_count": null,
   "id": "16c30e53",
   "metadata": {},
   "outputs": [],
   "source": [
    "import pandas as pd\n",
    "import numpy as np\n",
    "import matplotlib.pyplot as plt\n",
    "import seaborn as sns"
   ]
  },
  {
   "cell_type": "markdown",
   "id": "64f78c16",
   "metadata": {},
   "source": [
    "Load data. Please change the path if needed."
   ]
  },
  {
   "cell_type": "code",
   "execution_count": null,
   "id": "30340b19",
   "metadata": {},
   "outputs": [],
   "source": [
    "# load data\n",
    "data_all, data_days, data_rt_raw, index_common, info_file, info_venue = pd.read_pickle('results/data_processed.pckl')"
   ]
  },
  {
   "cell_type": "markdown",
   "id": "6e5be1c5",
   "metadata": {},
   "source": [
    "Average the historical data to draw the heatmap"
   ]
  },
  {
   "cell_type": "code",
   "execution_count": null,
   "id": "b8d29d80",
   "metadata": {},
   "outputs": [],
   "source": [
    "n_w = len(data_all)\n",
    "data = data_all[0].copy()\n",
    "for i in range(1,n_w):\n",
    "    data += data_all[i]\n",
    "data = data/n_w"
   ]
  },
  {
   "cell_type": "markdown",
   "id": "39fb7c3a",
   "metadata": {},
   "source": [
    "Draw the heatmap"
   ]
  },
  {
   "cell_type": "code",
   "execution_count": null,
   "id": "8936c824",
   "metadata": {},
   "outputs": [],
   "source": [
    "fig, ax = plt.subplots(1,1,figsize=(8,4))\n",
    "\n",
    "sns.heatmap(data, cmap='coolwarm', ax=ax)\n",
    "\n",
    "for i in range(1,7):\n",
    "    ax.axvline(i*24, color='r', linestyle='--', linewidth=2)\n",
    "\n",
    "ax.set_xlabel('Time of a week (h)')\n",
    "ax.set_ylabel('Venues')\n",
    "ax.set_yticks(range(0,len(data),100))\n",
    "ax.set_yticklabels(range(0,len(data),100))\n",
    "\n",
    "tick_pos = []\n",
    "tick_label = []\n",
    "high_level = ['\\nMon','\\nTue','\\nWed','\\nThu','\\nFri','\\nSat','\\nSun']\n",
    "for i in range(7*3):\n",
    "    tick_pos.append(i*8)\n",
    "    tick_label.append(str(i*8%24))\n",
    "    if i%3 == 1:\n",
    "        tick_pos.append(i*8+0.5)\n",
    "        tick_label.append(high_level[int(i/3)])\n",
    "\n",
    "ax.set_xticks(tick_pos)\n",
    "ax.set_xticklabels(tick_label, rotation=0, ha='center')\n",
    "\n",
    "fig.savefig('figures/heatmap_hour_venue.pdf', bbox_inches='tight')"
   ]
  },
  {
   "cell_type": "markdown",
   "id": "4b32be48",
   "metadata": {},
   "source": [
    "Separate the data by weekdays, Saturday, Sunday."
   ]
  },
  {
   "cell_type": "code",
   "execution_count": null,
   "id": "935b62e3",
   "metadata": {},
   "outputs": [],
   "source": [
    "day_time = []\n",
    "data_weekday = []\n",
    "data_sat = []\n",
    "data_sun = []\n",
    "\n",
    "day_time0 = []\n",
    "data_weekday0 = []\n",
    "data_sat0 = []\n",
    "data_sun0 = []\n",
    "for i in range(n_w):\n",
    "    for j in range(7): # seven days a week\n",
    "        df = data_days[j][i]\n",
    "        df0 = data_days[j][i].loc[~(df==0).all(axis=1)]\n",
    "        day_time0.append(df0.mean(axis=0))\n",
    "        day_time.append(df.mean(axis=0))\n",
    "        if j < 5:\n",
    "            data_weekday.append(df.mean(axis=0).reset_index(drop=True))\n",
    "            data_weekday0.append(df0.mean(axis=0).reset_index(drop=True))\n",
    "        if j == 5:\n",
    "            data_sat.append(df.mean(axis=0))\n",
    "            data_sat0.append(df0.mean(axis=0))\n",
    "        if j == 6:\n",
    "            data_sun.append(df.mean(axis=0))\n",
    "            data_sun0.append(df0.mean(axis=0))"
   ]
  },
  {
   "cell_type": "markdown",
   "id": "f4d898f0",
   "metadata": {},
   "source": [
    "Draw the heatmap with x as time of day and y as the days."
   ]
  },
  {
   "cell_type": "code",
   "execution_count": null,
   "id": "e277505a",
   "metadata": {},
   "outputs": [],
   "source": [
    "fig, ax = plt.subplots(1,1,figsize=(6,4))\n",
    "\n",
    "sns.heatmap(day_time, cmap='coolwarm', ax=ax)\n",
    "\n",
    "ax.set_xlabel('Time of day (h)')\n",
    "ax.set_ylabel('Day')\n",
    "\n",
    "fig.savefig('figures/heatmap_hour_day.pdf', bbox_inches='tight')"
   ]
  },
  {
   "cell_type": "markdown",
   "id": "c4eab67a",
   "metadata": {},
   "source": [
    "Define a function to aggregate the GPT data."
   ]
  },
  {
   "cell_type": "code",
   "execution_count": null,
   "id": "9dd575f6",
   "metadata": {},
   "outputs": [],
   "source": [
    "def average_popularity(data_week_agg, data_sat_agg, data_sun_agg, fig_name):\n",
    "    # draw the change and range of GPT\n",
    "    fig, ax = plt.subplots(figsize=(5,4))\n",
    "    ax.tick_params(direction='in',top=True,right=True,which='both',width=1.5)\n",
    "    ax.spines['bottom'].set_linewidth(1.5)\n",
    "    ax.spines['left'].set_linewidth(1.5)\n",
    "    ax.spines['top'].set_linewidth(1.5)\n",
    "    ax.spines['right'].set_linewidth(1.5)\n",
    "    \n",
    "    ax.plot(data_week_agg['mean'], label='Weekday', color='b')\n",
    "    ax.plot(data_sat_agg['mean'], label='Saturday', color='r')\n",
    "    ax.plot(data_sun_agg['mean'], label='Sunday', color='g')\n",
    "    \n",
    "    ax.fill_between(range(24), data_week_agg['mean']+data_week_agg['std'], \n",
    "                    data_week_agg['mean']-data_week_agg['std'], facecolor='blue', alpha=0.3)\n",
    "    ax.fill_between(range(24), data_sat_agg['mean']+data_sat_agg['std'], \n",
    "                    data_sat_agg['mean']-data_sat_agg['std'], facecolor='r', alpha=0.3)\n",
    "    ax.fill_between(range(24), data_sun_agg['mean']+data_sun_agg['std'], \n",
    "                    data_sun_agg['mean']-data_sun_agg['std'], facecolor='g', alpha=0.3)\n",
    "    \n",
    "    ax.legend()\n",
    "    ax.set_xlabel('Time of day (h)')\n",
    "    ax.set_ylabel('Popularity')\n",
    "    fig.savefig('figures/'+fig_name+'.pdf', bbox_inches='tight')"
   ]
  },
  {
   "cell_type": "markdown",
   "id": "d3d5b9d7",
   "metadata": {},
   "source": [
    "Calculate the mean and std of all POIs."
   ]
  },
  {
   "cell_type": "code",
   "execution_count": null,
   "id": "7301639d",
   "metadata": {},
   "outputs": [],
   "source": [
    "data_sat_agg = pd.concat(data_sat, axis=1).agg(['mean','std'], axis=1).reset_index(drop=True)\n",
    "data_sun_agg = pd.concat(data_sun, axis=1).agg(['mean','std'], axis=1).reset_index(drop=True)\n",
    "data_week_agg = pd.concat(data_weekday, axis=1).agg(['mean','std'], axis=1).reset_index(drop=True)\n",
    "average_popularity(data_week_agg, data_sat_agg, data_sun_agg, 'average_pattern')"
   ]
  },
  {
   "cell_type": "markdown",
   "id": "0b37df73",
   "metadata": {},
   "source": [
    "Calculate the mean and std of the POIS with at least one non-zero values."
   ]
  },
  {
   "cell_type": "code",
   "execution_count": null,
   "id": "d519bdf7",
   "metadata": {},
   "outputs": [],
   "source": [
    "data_sat_agg0 = pd.concat(data_sat0, axis=1).agg(['mean','std'], axis=1).reset_index(drop=True)\n",
    "data_sun_agg0 = pd.concat(data_sun0, axis=1).agg(['mean','std'], axis=1).reset_index(drop=True)\n",
    "data_week_agg0 = pd.concat(data_weekday0, axis=1).agg(['mean','std'], axis=1).reset_index(drop=True)\n",
    "average_popularity(data_week_agg0, data_sat_agg0, data_sun_agg0, 'average_pattern_nozeros')"
   ]
  },
  {
   "cell_type": "markdown",
   "id": "9e881038",
   "metadata": {},
   "source": [
    "Define a function to draw the weekly GPT."
   ]
  },
  {
   "cell_type": "code",
   "execution_count": null,
   "id": "14dec7b1",
   "metadata": {},
   "outputs": [],
   "source": [
    "def draw_week_plot(data_c, c):\n",
    "    fig, ax = plt.subplots(figsize=(12,3))\n",
    "    ax.tick_params(direction='in',top=True,right=True,which='both',width=1.5)\n",
    "    ax.spines['bottom'].set_linewidth(1.5)\n",
    "    ax.spines['left'].set_linewidth(1.5)\n",
    "    ax.spines['top'].set_linewidth(1.5)\n",
    "    ax.spines['right'].set_linewidth(1.5)\n",
    "    \n",
    "    ax.plot(data_c['mean'], color='b', label=c)\n",
    "    \n",
    "    ax.fill_between(range(len(data_c)), data_c['mean']+data_c['std'], \n",
    "                    data_c['mean']-data_c['std'], facecolor='blue', alpha=0.3)\n",
    "    \n",
    "    ax.legend()\n",
    "    ax.set_xlabel('Time (h)')\n",
    "    ax.set_ylabel('Popularity')\n",
    "    fig.savefig('figures/TS_'+c+'.png')"
   ]
  },
  {
   "cell_type": "code",
   "execution_count": null,
   "id": "cc10c9db",
   "metadata": {},
   "outputs": [],
   "source": [
    "info_venue.set_index(['lat','lon'], inplace=True)\n",
    "info_venue = info_venue[info_venue.index.isin(index_common)]\n",
    "info_venue.reset_index(drop=False, inplace=True)\n",
    "venue_count = info_venue['node_type'].value_counts()\n",
    "venue_count = venue_count[:10]\n",
    "for c in venue_count.index:\n",
    "    data_c_agg = pd.DataFrame()\n",
    "    for i in range(n_w):\n",
    "        venue_c = info_venue.loc[info_venue['node_type']==c, ['lat','lon']].set_index(['lat','lon'])\n",
    "        data_week = data_all[i]\n",
    "        data_c = data_week[data_week.index.isin(venue_c.index)]\n",
    "        data_c_agg =pd.concat([data_c_agg, data_c.agg(['mean', 'std'], axis=0).reset_index(drop=True)], axis=1)\n",
    "    data_c_agg = data_c_agg.T.reset_index(drop=True)\n",
    "    data_c_agg.columns = ['mean','std']\n",
    "    \n",
    "    draw_week_plot(data_c_agg, c)"
   ]
  }
 ],
 "metadata": {
  "kernelspec": {
   "display_name": "Python 3",
   "language": "python",
   "name": "python3"
  },
  "language_info": {
   "codemirror_mode": {
    "name": "ipython",
    "version": 3
   },
   "file_extension": ".py",
   "mimetype": "text/x-python",
   "name": "python",
   "nbconvert_exporter": "python",
   "pygments_lexer": "ipython3",
   "version": "3.8.8"
  }
 },
 "nbformat": 4,
 "nbformat_minor": 5
}
